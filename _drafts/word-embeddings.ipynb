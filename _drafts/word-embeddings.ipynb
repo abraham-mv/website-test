{
 "cells": [
  {
   "cell_type": "markdown",
   "id": "47df7a84-3686-43c1-a898-2601746484c7",
   "metadata": {},
   "source": [
    "# Topic Modelling (Part 1): Introduction to text embeddings"
   ]
  },
  {
   "cell_type": "markdown",
   "id": "a56aa292-cba8-460f-96ac-3ed97fb0c90f",
   "metadata": {},
   "source": [
    "Topic modelling is an unsupervised document classification task, in which we assign each document or phrase in a corpus with a label, depending on the abstract properties of each corpus entry. So the difficulty comes from trying to find these properties from the text. \n",
    "\n",
    "In regular classification tasks we would have a set of features and an output variable, for text these features could be: number of words in the document, number of times a specific word is mentioned, even the number of positive and negative words if we use a sentiment lexicon. Then we would use some classification model, like logistic regression, and predict how likely is a document to have a certain label. However, in real world scenarios this isn't very useful, it would be a monumental task to do extract the most relevant features from a corpus of thousands of text with thousands of words each. So, what if instead of having to engineer features from the text we let the text be the features; meaning, use the words in the documents to compare them. But we can't input a sequence of characters into a mathematical formula, this is when vector semantics appear. The idea is to represent the meaning of word according to the context it appears in.\n",
    "\n",
    "[comment]: <> (The easiest way to represent words with numerical vectors is to do one-hot-encoding, this means we extract all the unique words used in the corpus and assign each one a vector of the size of the vocubulary $|V|$, with zeroes in all entries but one. This is a good way to start for most models, but there isn't much information to gain from just one-hot-encoded vectors. )\n",
    "\n",
    "In this post we will take a look at the simplest methods to represent text as numerical vectors using the 20newsgroups dataset. We will import the dataset from the sklearn package and use string and pandas to do some manipulation. Firstly we choose 4 random categories for simplicity and put the dataset into a dataframe."
   ]
  },
  {
   "cell_type": "code",
   "execution_count": 1,
   "id": "eadaaf90",
   "metadata": {},
   "outputs": [
    {
     "name": "stderr",
     "output_type": "stream",
     "text": [
      "c:\\Users\\jose_\\Anaconda3\\lib\\site-packages\\scipy\\__init__.py:146: UserWarning: A NumPy version >=1.16.5 and <1.23.0 is required for this version of SciPy (detected version 1.24.3\n",
      "  warnings.warn(f\"A NumPy version >={np_minversion} and <{np_maxversion}\"\n"
     ]
    }
   ],
   "source": [
    "import string\n",
    "import re\n",
    "\n",
    "import numpy as np\n",
    "import pandas as pd\n",
    "from matplotlib import pyplot as plt\n",
    "\n",
    "from sklearn.datasets import fetch_20newsgroups\n",
    "newsgroups = fetch_20newsgroups(subset = 'train', categories=['comp.graphics', 'rec.autos', \n",
    "                                                              'sci.space', 'talk.politics.misc'])\n",
    "categories = [newsgroups[\"target_names\"][i] for i in newsgroups[\"target\"]]\n",
    "newsgroups_df = pd.DataFrame({\"data\": newsgroups[\"data\"],\n",
    "                             \"target\": newsgroups[\"target\"],\n",
    "                             \"category\": categories})"
   ]
  },
  {
   "cell_type": "markdown",
   "id": "75f17845",
   "metadata": {},
   "source": [
    "We will be using the news categories as documents; therefore, we can use the `groupby` and `join` functions from pandas to join all the documents in one category together."
   ]
  },
  {
   "cell_type": "code",
   "execution_count": 2,
   "id": "ec886981",
   "metadata": {},
   "outputs": [],
   "source": [
    "def join_strings(series):\n",
    "    return ' '.join(series)\n",
    "news_by_category = newsgroups_df.groupby(\"category\")['data'].agg(join_strings).reset_index()"
   ]
  },
  {
   "cell_type": "markdown",
   "id": "a3d7cac4",
   "metadata": {},
   "source": [
    "## Term-document representations\n",
    "The simplest approach is to have a term-document matrix, where every column is the name of a document and every row is a term from a vocabulary made out of the whole corpus, and every cell is the number of times that term appears in that document. First step to build a term-document matrix is to separate the documents into individual words, this process is called *tokenization*. Here we convert the whole text to lower case, and we split it by word (it splits every time it detects a space), then we remove the punctuation characters."
   ]
  },
  {
   "cell_type": "code",
   "execution_count": 3,
   "id": "5155a3dc",
   "metadata": {},
   "outputs": [],
   "source": [
    "def contains_number(s):\n",
    "    return bool(re.search(r'\\d', s))\n",
    "\n",
    "news_by_category[\"tokens\"] = None\n",
    "for i, text in enumerate(news_by_category.data):\n",
    "    tokenized_cat = []\n",
    "    for token in text.lower().split():\n",
    "        token = token.strip(string.punctuation)\n",
    "        if len(token) > 0 and not contains_number(token):\n",
    "            tokenized_cat.append(token)\n",
    "    news_by_category[\"tokens\"][i] = tokenized_cat "
   ]
  },
  {
   "cell_type": "markdown",
   "id": "26acc78a",
   "metadata": {},
   "source": [
    "Next we want to count the number of words per category."
   ]
  },
  {
   "cell_type": "code",
   "execution_count": 4,
   "id": "57f81c6f",
   "metadata": {},
   "outputs": [
    {
     "data": {
      "text/html": [
       "<div>\n",
       "<style scoped>\n",
       "    .dataframe tbody tr th:only-of-type {\n",
       "        vertical-align: middle;\n",
       "    }\n",
       "\n",
       "    .dataframe tbody tr th {\n",
       "        vertical-align: top;\n",
       "    }\n",
       "\n",
       "    .dataframe thead th {\n",
       "        text-align: right;\n",
       "    }\n",
       "</style>\n",
       "<table border=\"1\" class=\"dataframe\">\n",
       "  <thead>\n",
       "    <tr style=\"text-align: right;\">\n",
       "      <th></th>\n",
       "      <th>category</th>\n",
       "      <th>tokens</th>\n",
       "      <th>count</th>\n",
       "    </tr>\n",
       "  </thead>\n",
       "  <tbody>\n",
       "    <tr>\n",
       "      <th>0</th>\n",
       "      <td>comp.graphics</td>\n",
       "      <td>a</td>\n",
       "      <td>2628</td>\n",
       "    </tr>\n",
       "    <tr>\n",
       "      <th>1</th>\n",
       "      <td>comp.graphics</td>\n",
       "      <td>a&amp;m</td>\n",
       "      <td>6</td>\n",
       "    </tr>\n",
       "    <tr>\n",
       "      <th>2</th>\n",
       "      <td>comp.graphics</td>\n",
       "      <td>a)bort</td>\n",
       "      <td>4</td>\n",
       "    </tr>\n",
       "    <tr>\n",
       "      <th>3</th>\n",
       "      <td>comp.graphics</td>\n",
       "      <td>a,b,c</td>\n",
       "      <td>2</td>\n",
       "    </tr>\n",
       "    <tr>\n",
       "      <th>4</th>\n",
       "      <td>comp.graphics</td>\n",
       "      <td>a-b</td>\n",
       "      <td>1</td>\n",
       "    </tr>\n",
       "  </tbody>\n",
       "</table>\n",
       "</div>"
      ],
      "text/plain": [
       "        category  tokens  count\n",
       "0  comp.graphics       a   2628\n",
       "1  comp.graphics     a&m      6\n",
       "2  comp.graphics  a)bort      4\n",
       "3  comp.graphics   a,b,c      2\n",
       "4  comp.graphics     a-b      1"
      ]
     },
     "execution_count": 4,
     "metadata": {},
     "output_type": "execute_result"
    }
   ],
   "source": [
    "news_tokenized = news_by_category.drop('data', axis=1). \\\n",
    "    explode('tokens').  \\\n",
    "    groupby(['category', 'tokens']).size(). \\\n",
    "    reset_index(name='count')\n",
    "\n",
    "news_tokenized.head()"
   ]
  },
  {
   "cell_type": "markdown",
   "id": "5cfbe1c5",
   "metadata": {},
   "source": [
    "Now we are ready to build the matrix, we will choose a few specific words for visualization purposes."
   ]
  },
  {
   "cell_type": "code",
   "execution_count": 5,
   "id": "86ed2972",
   "metadata": {},
   "outputs": [
    {
     "data": {
      "text/html": [
       "<div>\n",
       "<style scoped>\n",
       "    .dataframe tbody tr th:only-of-type {\n",
       "        vertical-align: middle;\n",
       "    }\n",
       "\n",
       "    .dataframe tbody tr th {\n",
       "        vertical-align: top;\n",
       "    }\n",
       "\n",
       "    .dataframe thead th {\n",
       "        text-align: right;\n",
       "    }\n",
       "</style>\n",
       "<table border=\"1\" class=\"dataframe\">\n",
       "  <thead>\n",
       "    <tr style=\"text-align: right;\">\n",
       "      <th>category</th>\n",
       "      <th>comp.graphics</th>\n",
       "      <th>rec.autos</th>\n",
       "      <th>sci.space</th>\n",
       "      <th>talk.politics.misc</th>\n",
       "    </tr>\n",
       "    <tr>\n",
       "      <th>tokens</th>\n",
       "      <th></th>\n",
       "      <th></th>\n",
       "      <th></th>\n",
       "      <th></th>\n",
       "    </tr>\n",
       "  </thead>\n",
       "  <tbody>\n",
       "    <tr>\n",
       "      <th>cars</th>\n",
       "      <td>2</td>\n",
       "      <td>365</td>\n",
       "      <td>2</td>\n",
       "      <td>8</td>\n",
       "    </tr>\n",
       "    <tr>\n",
       "      <th>computer</th>\n",
       "      <td>205</td>\n",
       "      <td>68</td>\n",
       "      <td>86</td>\n",
       "      <td>40</td>\n",
       "    </tr>\n",
       "    <tr>\n",
       "      <th>from</th>\n",
       "      <td>1177</td>\n",
       "      <td>945</td>\n",
       "      <td>1280</td>\n",
       "      <td>1146</td>\n",
       "    </tr>\n",
       "    <tr>\n",
       "      <th>republican</th>\n",
       "      <td>0</td>\n",
       "      <td>0</td>\n",
       "      <td>1</td>\n",
       "      <td>25</td>\n",
       "    </tr>\n",
       "    <tr>\n",
       "      <th>space</th>\n",
       "      <td>47</td>\n",
       "      <td>15</td>\n",
       "      <td>1194</td>\n",
       "      <td>19</td>\n",
       "    </tr>\n",
       "  </tbody>\n",
       "</table>\n",
       "</div>"
      ],
      "text/plain": [
       "category    comp.graphics  rec.autos  sci.space  talk.politics.misc\n",
       "tokens                                                             \n",
       "cars                    2        365          2                   8\n",
       "computer              205         68         86                  40\n",
       "from                 1177        945       1280                1146\n",
       "republican              0          0          1                  25\n",
       "space                  47         15       1194                  19"
      ]
     },
     "execution_count": 5,
     "metadata": {},
     "output_type": "execute_result"
    }
   ],
   "source": [
    "news_tokenized[news_tokenized.tokens.isin([\"computer\", \"space\", \"cars\", \"from\", \"republican\"])]. \\\n",
    "    pivot(index='tokens', columns='category', values='count'). \\\n",
    "    fillna(0).astype(int)"
   ]
  },
  {
   "cell_type": "markdown",
   "id": "5bf04368",
   "metadata": {},
   "source": [
    "In the following we have a simple two-dimensional vectror representation of the documents"
   ]
  },
  {
   "cell_type": "code",
   "execution_count": 6,
   "id": "ebf23637",
   "metadata": {},
   "outputs": [
    {
     "data": {
      "image/png": "[encoded data removed]",
      "text/plain": [
       "<Figure size 640x480 with 1 Axes>"
      ]
     },
     "metadata": {},
     "output_type": "display_data"
    }
   ],
   "source": [
    "# Create a figure and axis\n",
    "fig, ax = plt.subplots()\n",
    "\n",
    "# Create a quiver plot for the vectors\n",
    "ax.quiver(0, 0, 205, 2, angles='xy', scale_units='xy', scale=1, color='blue', label='comp.graphics')\n",
    "ax.quiver(0, 0, 40, 8, angles='xy', scale_units='xy', scale=1, color='red', label='talk.politics.misc')\n",
    "ax.quiver(0, 0, 86, 2, angles='xy', scale_units='xy', scale=1, color='green', label='sci.space')\n",
    "ax.quiver(0, 0, 68, 365, angles='xy', scale_units='xy', scale=1, color='orange', label='rec.autos')\n",
    "\n",
    "# Set x and y axis limits\n",
    "ax.set_xlim(-1, 250)\n",
    "ax.set_ylim(-1, 150)\n",
    "\n",
    "# Add labels and legend\n",
    "ax.set_xlabel('computer')\n",
    "ax.set_ylabel('cars')\n",
    "ax.set_title('Term-document vector representations')\n",
    "ax.legend()\n",
    "\n",
    "# Show the plot\n",
    "plt.show()"
   ]
  },
  {
   "cell_type": "markdown",
   "id": "b83cbe03",
   "metadata": {},
   "source": [
    "## Term-term representations\n",
    "Another way of achieving this is with the term-term co-occurrence matrices, this a matrix of $|V|\\times|V|$, where $|V|$ is the vocabulary size, made up of context words in the columns and target words in the rows. Each entry corresponds to the number of times those terms appear together in the document. "
   ]
  },
  {
   "cell_type": "code",
   "execution_count": 7,
   "id": "1423bbce",
   "metadata": {},
   "outputs": [],
   "source": [
    "from nltk.corpus import stopwords\n",
    "import re\n",
    "\n",
    "stop_words = set(stopwords.words('english'))\n",
    "tokens = [word for word in news_by_category.iloc[0,:]['tokens'] if word not in stop_words and not contains_number(word)]\n",
    "counts = pd.Series(tokens).value_counts()\n",
    "\n",
    "vocabulary = list(set(tokens))\n",
    "term_to_index = {term: idx for idx, term in enumerate(vocabulary)}"
   ]
  },
  {
   "cell_type": "code",
   "execution_count": 8,
   "id": "77d64c7e",
   "metadata": {},
   "outputs": [],
   "source": [
    "#window = 2\n",
    "#co_occurrence_matrix = pd.DataFrame(columns=vocabulary, index=vocabulary).fillna(0)\n",
    "#\n",
    "#for i, target in enumerate(tokens):\n",
    "#    for context in tokens[i-window:i+window+1]:\n",
    "#        if target == context:\n",
    "#            co_occurrence_matrix.loc[target, context] = counts[target]\n",
    "#        else:\n",
    "#            co_occurrence_matrix.loc[target, context] += 1"
   ]
  },
  {
   "cell_type": "code",
   "execution_count": 10,
   "id": "7b05b593",
   "metadata": {},
   "outputs": [],
   "source": [
    "window = 2\n",
    "numpy_matrix = np.zeros((len(vocabulary), len(vocabulary)), dtype=int)\n",
    "for i in range(len(tokens)):\n",
    "    for j in range(i-window, i+window+1):\n",
    "        if 0 <= j < len(tokens):\n",
    "            if i == j:  \n",
    "                numpy_matrix[term_to_index[tokens[i]],term_to_index[tokens[j]]] = counts[tokens[i]]\n",
    "            else:\n",
    "                numpy_matrix[term_to_index[tokens[i]],term_to_index[tokens[j]]] += 1\n"
   ]
  },
  {
   "cell_type": "code",
   "execution_count": 11,
   "id": "64e1fdbb",
   "metadata": {},
   "outputs": [
    {
     "data": {
      "text/html": [
       "<div>\n",
       "<style scoped>\n",
       "    .dataframe tbody tr th:only-of-type {\n",
       "        vertical-align: middle;\n",
       "    }\n",
       "\n",
       "    .dataframe tbody tr th {\n",
       "        vertical-align: top;\n",
       "    }\n",
       "\n",
       "    .dataframe thead th {\n",
       "        text-align: right;\n",
       "    }\n",
       "</style>\n",
       "<table border=\"1\" class=\"dataframe\">\n",
       "  <thead>\n",
       "    <tr style=\"text-align: right;\">\n",
       "      <th></th>\n",
       "      <th>computer</th>\n",
       "      <th>lines</th>\n",
       "      <th>graphics</th>\n",
       "      <th>spline</th>\n",
       "      <th>image</th>\n",
       "    </tr>\n",
       "  </thead>\n",
       "  <tbody>\n",
       "    <tr>\n",
       "      <th>computer</th>\n",
       "      <td>205</td>\n",
       "      <td>13</td>\n",
       "      <td>57</td>\n",
       "      <td>0</td>\n",
       "      <td>7</td>\n",
       "    </tr>\n",
       "    <tr>\n",
       "      <th>lines</th>\n",
       "      <td>13</td>\n",
       "      <td>640</td>\n",
       "      <td>9</td>\n",
       "      <td>1</td>\n",
       "      <td>3</td>\n",
       "    </tr>\n",
       "    <tr>\n",
       "      <th>graphics</th>\n",
       "      <td>57</td>\n",
       "      <td>9</td>\n",
       "      <td>437</td>\n",
       "      <td>0</td>\n",
       "      <td>4</td>\n",
       "    </tr>\n",
       "    <tr>\n",
       "      <th>spline</th>\n",
       "      <td>0</td>\n",
       "      <td>1</td>\n",
       "      <td>0</td>\n",
       "      <td>15</td>\n",
       "      <td>0</td>\n",
       "    </tr>\n",
       "    <tr>\n",
       "      <th>image</th>\n",
       "      <td>7</td>\n",
       "      <td>3</td>\n",
       "      <td>4</td>\n",
       "      <td>0</td>\n",
       "      <td>514</td>\n",
       "    </tr>\n",
       "  </tbody>\n",
       "</table>\n",
       "</div>"
      ],
      "text/plain": [
       "          computer  lines  graphics  spline  image\n",
       "computer       205     13        57       0      7\n",
       "lines           13    640         9       1      3\n",
       "graphics        57      9       437       0      4\n",
       "spline           0      1         0      15      0\n",
       "image            7      3         4       0    514"
      ]
     },
     "execution_count": 11,
     "metadata": {},
     "output_type": "execute_result"
    }
   ],
   "source": [
    "co_occurrences = pd.DataFrame(numpy_matrix, columns=vocabulary, index=vocabulary)\n",
    "co_occurrences.loc[[\"computer\", \"lines\", \"graphics\", \"spline\", \"image\"], \n",
    "                   [\"computer\", \"lines\", \"graphics\", \"spline\", \"image\"]]"
   ]
  },
  {
   "cell_type": "markdown",
   "id": "86e46f54",
   "metadata": {},
   "source": [
    "Next is another simple visualization of the word vectors."
   ]
  },
  {
   "cell_type": "code",
   "execution_count": 47,
   "id": "169a8881",
   "metadata": {},
   "outputs": [
    {
     "data": {
      "image/png": "[encoded data removed]",
      "text/plain": [
       "<Figure size 640x480 with 1 Axes>"
      ]
     },
     "metadata": {},
     "output_type": "display_data"
    }
   ],
   "source": [
    "# Define the x and y axis (context words)\n",
    "x = co_occurrences[\"computer\"]\n",
    "y = co_occurrences[\"image\"]\n",
    "\n",
    "# Create a figure and axis\n",
    "fig, ax = plt.subplots()\n",
    "\n",
    "# Create a quiver plot for the vectors\n",
    "ax.quiver([0,0], [0,0], \n",
    "          x[[\"lines\", \"graphics\"]], y[[\"lines\", \"graphics\"]], \n",
    "          angles='xy', scale_units='xy', scale=1, color=['blue','red'])\n",
    "\n",
    "# Set x and y axis limits\n",
    "ax.set_xlim(0, 73)\n",
    "ax.set_ylim(0, 6)\n",
    "\n",
    "# Add labels and legend\n",
    "ax.set_xlabel('computer')\n",
    "ax.set_ylabel('image')\n",
    "ax.set_title('Term-term vector representations')\n",
    "\n",
    "ax.annotate(\"lines[{},{}]\".format(x.lines, y.lines),(x[\"lines\"],y[\"lines\"]))\n",
    "ax.annotate(\"graphics[{},{}]\".format(x.graphics, y.graphics),(x[\"graphics\"],y[\"graphics\"]))\n",
    "# Show the plot\n",
    "plt.show()"
   ]
  },
  {
   "cell_type": "markdown",
   "id": "454570fc",
   "metadata": {},
   "source": [
    "## TF-IDF\n",
    "Both methods that we've explored so far used raw frequencies to represent words, in practice these aren't very useful because the most frequent words will always be *the*, *for*, *a*, etc. So what we want to extract are those words that appear very often in a specific document but not too often in all documents. The **tf-idf** weighting, where **tf** stands for *term frequency* and **idf** for *inverse document frequency*,  attempts to do just that. As the name suggest **tf** is just the number of times a word *t* appears in document *d*, while **idf** is the inverse proportion of documents that contain word *t*, both functions are often squash by a base 10 logarithm. \n",
    "$$\n",
    "\\begin{aligned}\n",
    "\\mathrm{tf}_{t,d} &= \\log_{10}(\\mathrm{count}(t,d)+1) \\\\\n",
    "\\mathrm{idf}_t &= \\log_{10}\\left(\\frac{N}{\\mathrm{df}_t}\\right)\n",
    "\\end{aligned}\n",
    "$$\n",
    "Where $N$ is the number of documents in the corpus and $\\text{df}_t$ is the number of documents containing term $t$, we add one to the argument of the logarithm in case we have a count of zero. Then the **tf-idf** weights $w_{t,d}$ is the product of the two:\n",
    "$$\n",
    "w_{t,d} = \\mathrm{tf}_{t,d} \\times \\mathrm{idf}_t\n",
    "$$\n",
    "Since we already counted the tokens per category when we built the term-document matrix, we will compute the inverse document frequency."
   ]
  },
  {
   "cell_type": "code",
   "execution_count": 12,
   "id": "76220214",
   "metadata": {},
   "outputs": [],
   "source": [
    "tokens_idf = news_tokenized.groupby('tokens').size().reset_index(name='idf')\n",
    "tokens_idf[\"idf\"] = np.log10(4/tokens_idf['idf'])"
   ]
  },
  {
   "cell_type": "markdown",
   "id": "9f7d233c",
   "metadata": {},
   "source": [
    "For the next step we will merge this dataframe with the previous one and multiply the log of the counts and the idf."
   ]
  },
  {
   "cell_type": "code",
   "execution_count": 13,
   "id": "698e7ecc",
   "metadata": {},
   "outputs": [
    {
     "data": {
      "text/html": [
       "<div>\n",
       "<style scoped>\n",
       "    .dataframe tbody tr th:only-of-type {\n",
       "        vertical-align: middle;\n",
       "    }\n",
       "\n",
       "    .dataframe tbody tr th {\n",
       "        vertical-align: top;\n",
       "    }\n",
       "\n",
       "    .dataframe thead th {\n",
       "        text-align: right;\n",
       "    }\n",
       "</style>\n",
       "<table border=\"1\" class=\"dataframe\">\n",
       "  <thead>\n",
       "    <tr style=\"text-align: right;\">\n",
       "      <th></th>\n",
       "      <th>category</th>\n",
       "      <th>tokens</th>\n",
       "      <th>count</th>\n",
       "      <th>idf</th>\n",
       "      <th>tf-idf</th>\n",
       "    </tr>\n",
       "  </thead>\n",
       "  <tbody>\n",
       "    <tr>\n",
       "      <th>0</th>\n",
       "      <td>comp.graphics</td>\n",
       "      <td>a</td>\n",
       "      <td>2628</td>\n",
       "      <td>0.00000</td>\n",
       "      <td>0.000000</td>\n",
       "    </tr>\n",
       "    <tr>\n",
       "      <th>1</th>\n",
       "      <td>comp.graphics</td>\n",
       "      <td>a&amp;m</td>\n",
       "      <td>6</td>\n",
       "      <td>0.30103</td>\n",
       "      <td>0.254400</td>\n",
       "    </tr>\n",
       "    <tr>\n",
       "      <th>2</th>\n",
       "      <td>comp.graphics</td>\n",
       "      <td>a)bort</td>\n",
       "      <td>4</td>\n",
       "      <td>0.60206</td>\n",
       "      <td>0.420822</td>\n",
       "    </tr>\n",
       "    <tr>\n",
       "      <th>3</th>\n",
       "      <td>comp.graphics</td>\n",
       "      <td>a,b,c</td>\n",
       "      <td>2</td>\n",
       "      <td>0.60206</td>\n",
       "      <td>0.287256</td>\n",
       "    </tr>\n",
       "    <tr>\n",
       "      <th>4</th>\n",
       "      <td>comp.graphics</td>\n",
       "      <td>a-b</td>\n",
       "      <td>1</td>\n",
       "      <td>0.60206</td>\n",
       "      <td>0.181238</td>\n",
       "    </tr>\n",
       "  </tbody>\n",
       "</table>\n",
       "</div>"
      ],
      "text/plain": [
       "        category  tokens  count      idf    tf-idf\n",
       "0  comp.graphics       a   2628  0.00000  0.000000\n",
       "1  comp.graphics     a&m      6  0.30103  0.254400\n",
       "2  comp.graphics  a)bort      4  0.60206  0.420822\n",
       "3  comp.graphics   a,b,c      2  0.60206  0.287256\n",
       "4  comp.graphics     a-b      1  0.60206  0.181238"
      ]
     },
     "execution_count": 13,
     "metadata": {},
     "output_type": "execute_result"
    }
   ],
   "source": [
    "news_tfidf = news_tokenized.merge(tokens_idf, how='left', on='tokens')\n",
    "news_tfidf[\"tf-idf\"] = np.log10(news_tfidf['count']+1)*news_tfidf['idf']\n",
    "news_tfidf.head()"
   ]
  },
  {
   "cell_type": "markdown",
   "id": "65d49c8f",
   "metadata": {},
   "source": [
    "Next we just have to pivot wider."
   ]
  },
  {
   "cell_type": "code",
   "execution_count": 14,
   "id": "7be8ad1d",
   "metadata": {},
   "outputs": [
    {
     "data": {
      "text/html": [
       "<div>\n",
       "<style scoped>\n",
       "    .dataframe tbody tr th:only-of-type {\n",
       "        vertical-align: middle;\n",
       "    }\n",
       "\n",
       "    .dataframe tbody tr th {\n",
       "        vertical-align: top;\n",
       "    }\n",
       "\n",
       "    .dataframe thead th {\n",
       "        text-align: right;\n",
       "    }\n",
       "</style>\n",
       "<table border=\"1\" class=\"dataframe\">\n",
       "  <thead>\n",
       "    <tr style=\"text-align: right;\">\n",
       "      <th>category</th>\n",
       "      <th>comp.graphics</th>\n",
       "      <th>rec.autos</th>\n",
       "      <th>sci.space</th>\n",
       "      <th>talk.politics.misc</th>\n",
       "    </tr>\n",
       "    <tr>\n",
       "      <th>tokens</th>\n",
       "      <th></th>\n",
       "      <th></th>\n",
       "      <th></th>\n",
       "      <th></th>\n",
       "    </tr>\n",
       "  </thead>\n",
       "  <tbody>\n",
       "    <tr>\n",
       "      <th>cars</th>\n",
       "      <td>0.000000</td>\n",
       "      <td>0.0000</td>\n",
       "      <td>0.000000</td>\n",
       "      <td>0.000000</td>\n",
       "    </tr>\n",
       "    <tr>\n",
       "      <th>computer</th>\n",
       "      <td>0.000000</td>\n",
       "      <td>0.0000</td>\n",
       "      <td>0.000000</td>\n",
       "      <td>0.000000</td>\n",
       "    </tr>\n",
       "    <tr>\n",
       "      <th>ferrari</th>\n",
       "      <td>0.000000</td>\n",
       "      <td>0.5088</td>\n",
       "      <td>0.000000</td>\n",
       "      <td>0.000000</td>\n",
       "    </tr>\n",
       "    <tr>\n",
       "      <th>from</th>\n",
       "      <td>0.000000</td>\n",
       "      <td>0.0000</td>\n",
       "      <td>0.000000</td>\n",
       "      <td>0.000000</td>\n",
       "    </tr>\n",
       "    <tr>\n",
       "      <th>republican</th>\n",
       "      <td>0.000000</td>\n",
       "      <td>0.0000</td>\n",
       "      <td>0.090619</td>\n",
       "      <td>0.425949</td>\n",
       "    </tr>\n",
       "    <tr>\n",
       "      <th>spline</th>\n",
       "      <td>0.724952</td>\n",
       "      <td>0.0000</td>\n",
       "      <td>0.000000</td>\n",
       "      <td>0.000000</td>\n",
       "    </tr>\n",
       "  </tbody>\n",
       "</table>\n",
       "</div>"
      ],
      "text/plain": [
       "category    comp.graphics  rec.autos  sci.space  talk.politics.misc\n",
       "tokens                                                             \n",
       "cars             0.000000     0.0000   0.000000            0.000000\n",
       "computer         0.000000     0.0000   0.000000            0.000000\n",
       "ferrari          0.000000     0.5088   0.000000            0.000000\n",
       "from             0.000000     0.0000   0.000000            0.000000\n",
       "republican       0.000000     0.0000   0.090619            0.425949\n",
       "spline           0.724952     0.0000   0.000000            0.000000"
      ]
     },
     "execution_count": 14,
     "metadata": {},
     "output_type": "execute_result"
    }
   ],
   "source": [
    "news_tfidf[news_tfidf['tokens'].isin([\"computer\", \"cars\", \"from\", \"republican\", \"spline\", \"ferrari\"])]. \\\n",
    "    pivot(index='tokens', columns='category', values='tf-idf').fillna(0)"
   ]
  },
  {
   "cell_type": "markdown",
   "id": "4df5c6b5",
   "metadata": {},
   "source": [
    "As we can see many of the words have values of zero, this is because they appear in every category so the tf-idf function is flagging them as \"not significant\". In the next dataframe we are retrieving the 3 words with the highest tf-idf per category."
   ]
  },
  {
   "cell_type": "code",
   "execution_count": 15,
   "id": "bd350d1d",
   "metadata": {},
   "outputs": [
    {
     "data": {
      "text/html": [
       "<div>\n",
       "<style scoped>\n",
       "    .dataframe tbody tr th:only-of-type {\n",
       "        vertical-align: middle;\n",
       "    }\n",
       "\n",
       "    .dataframe tbody tr th {\n",
       "        vertical-align: top;\n",
       "    }\n",
       "\n",
       "    .dataframe thead th {\n",
       "        text-align: right;\n",
       "    }\n",
       "</style>\n",
       "<table border=\"1\" class=\"dataframe\">\n",
       "  <thead>\n",
       "    <tr style=\"text-align: right;\">\n",
       "      <th></th>\n",
       "      <th>category</th>\n",
       "      <th>tokens</th>\n",
       "      <th>count</th>\n",
       "      <th>idf</th>\n",
       "      <th>tf-idf</th>\n",
       "    </tr>\n",
       "  </thead>\n",
       "  <tbody>\n",
       "    <tr>\n",
       "      <th>8395</th>\n",
       "      <td>comp.graphics</td>\n",
       "      <td>polygon</td>\n",
       "      <td>111</td>\n",
       "      <td>0.60206</td>\n",
       "      <td>1.233752</td>\n",
       "    </tr>\n",
       "    <tr>\n",
       "      <th>11232</th>\n",
       "      <td>comp.graphics</td>\n",
       "      <td>tiff</td>\n",
       "      <td>98</td>\n",
       "      <td>0.60206</td>\n",
       "      <td>1.201492</td>\n",
       "    </tr>\n",
       "    <tr>\n",
       "      <th>11887</th>\n",
       "      <td>comp.graphics</td>\n",
       "      <td>vga</td>\n",
       "      <td>81</td>\n",
       "      <td>0.60206</td>\n",
       "      <td>1.152231</td>\n",
       "    </tr>\n",
       "    <tr>\n",
       "      <th>16968</th>\n",
       "      <td>rec.autos</td>\n",
       "      <td>honda</td>\n",
       "      <td>71</td>\n",
       "      <td>0.60206</td>\n",
       "      <td>1.118226</td>\n",
       "    </tr>\n",
       "    <tr>\n",
       "      <th>13245</th>\n",
       "      <td>rec.autos</td>\n",
       "      <td>automotive</td>\n",
       "      <td>70</td>\n",
       "      <td>0.60206</td>\n",
       "      <td>1.114569</td>\n",
       "    </tr>\n",
       "    <tr>\n",
       "      <th>22423</th>\n",
       "      <td>rec.autos</td>\n",
       "      <td>toyota</td>\n",
       "      <td>68</td>\n",
       "      <td>0.60206</td>\n",
       "      <td>1.107097</td>\n",
       "    </tr>\n",
       "    <tr>\n",
       "      <th>31089</th>\n",
       "      <td>sci.space</td>\n",
       "      <td>lunar</td>\n",
       "      <td>224</td>\n",
       "      <td>0.60206</td>\n",
       "      <td>1.416155</td>\n",
       "    </tr>\n",
       "    <tr>\n",
       "      <th>35630</th>\n",
       "      <td>sci.space</td>\n",
       "      <td>spacecraft</td>\n",
       "      <td>160</td>\n",
       "      <td>0.60206</td>\n",
       "      <td>1.328642</td>\n",
       "    </tr>\n",
       "    <tr>\n",
       "      <th>32640</th>\n",
       "      <td>sci.space</td>\n",
       "      <td>orbital</td>\n",
       "      <td>97</td>\n",
       "      <td>0.60206</td>\n",
       "      <td>1.198838</td>\n",
       "    </tr>\n",
       "    <tr>\n",
       "      <th>49463</th>\n",
       "      <td>talk.politics.misc</td>\n",
       "      <td>stephanopoulos</td>\n",
       "      <td>348</td>\n",
       "      <td>0.60206</td>\n",
       "      <td>1.530933</td>\n",
       "    </tr>\n",
       "    <tr>\n",
       "      <th>41814</th>\n",
       "      <td>talk.politics.misc</td>\n",
       "      <td>drugs</td>\n",
       "      <td>156</td>\n",
       "      <td>0.60206</td>\n",
       "      <td>1.322063</td>\n",
       "    </tr>\n",
       "    <tr>\n",
       "      <th>43046</th>\n",
       "      <td>talk.politics.misc</td>\n",
       "      <td>gay</td>\n",
       "      <td>128</td>\n",
       "      <td>0.60206</td>\n",
       "      <td>1.270702</td>\n",
       "    </tr>\n",
       "  </tbody>\n",
       "</table>\n",
       "</div>"
      ],
      "text/plain": [
       "                 category          tokens  count      idf    tf-idf\n",
       "8395        comp.graphics         polygon    111  0.60206  1.233752\n",
       "11232       comp.graphics            tiff     98  0.60206  1.201492\n",
       "11887       comp.graphics             vga     81  0.60206  1.152231\n",
       "16968           rec.autos           honda     71  0.60206  1.118226\n",
       "13245           rec.autos      automotive     70  0.60206  1.114569\n",
       "22423           rec.autos          toyota     68  0.60206  1.107097\n",
       "31089           sci.space           lunar    224  0.60206  1.416155\n",
       "35630           sci.space      spacecraft    160  0.60206  1.328642\n",
       "32640           sci.space         orbital     97  0.60206  1.198838\n",
       "49463  talk.politics.misc  stephanopoulos    348  0.60206  1.530933\n",
       "41814  talk.politics.misc           drugs    156  0.60206  1.322063\n",
       "43046  talk.politics.misc             gay    128  0.60206  1.270702"
      ]
     },
     "execution_count": 15,
     "metadata": {},
     "output_type": "execute_result"
    }
   ],
   "source": [
    "news_tfidf.groupby('category', group_keys=False).apply(lambda group: group.nlargest(3, 'tf-idf'))"
   ]
  },
  {
   "cell_type": "markdown",
   "id": "3e17d35a",
   "metadata": {},
   "source": [
    "This is an example of a class-based tf-idf, which is very useful when doing something like topic modelling, since we want to know what are the keywords for each of our predicted topics. We will cover how to use text embeddings for topic modelling in later posts."
   ]
  }
 ],
 "metadata": {
  "kernelspec": {
   "display_name": "Python 3 (ipykernel)",
   "language": "python",
   "name": "python3"
  },
  "language_info": {
   "codemirror_mode": {
    "name": "ipython",
    "version": 3
   },
   "file_extension": ".py",
   "mimetype": "text/x-python",
   "name": "python",
   "nbconvert_exporter": "python",
   "pygments_lexer": "ipython3",
   "version": "3.8.8"
  }
 },
 "nbformat": 4,
 "nbformat_minor": 5
}
